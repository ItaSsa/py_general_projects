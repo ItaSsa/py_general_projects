{
 "cells": [
  {
   "cell_type": "code",
   "execution_count": 11,
   "metadata": {},
   "outputs": [],
   "source": [
    "#Collecting item in the home directory\n",
    "import os\n",
    "home_name = '/home/itaira'\n",
    "home_items =  os.listdir(home_name)\n",
    "home_content = {'files':[] ,'directories':[]}"
   ]
  },
  {
   "cell_type": "code",
   "execution_count": 12,
   "metadata": {},
   "outputs": [
    {
     "name": "stdout",
     "output_type": "stream",
     "text": [
      "['.cache', 'venv', '.local', '.gitconfig', '.dotnet', '.oh-my-zsh', '.config', 'proj_py', '.sudo_as_admin_successful', 'proj_azure', '.bash_history', '.zcompdump-itaira-HP-Pavilion-Laptop-15-eh2xxx-5.9.zwc', '.profile', 'Templates', 'Downloads', '.viminfo', 'Documents', 'Public', '.bash_logout', '.zcompdump-itaira-HP-Pavilion-Laptop-15-eh2xxx-5.9', '.zsh_history', 'projs_aws', 'prog_bash', '.vscode', 'Pictures', '.ssh', '.bashrc.swo', 'snap', 'Videos', '.bashrc', 'proj_bash', '.zcompdump', '.gnupg', '.bashrc.swp', 'Desktop', '.pki', '.zshrc', '.ipython', 'Music', '.wget-hsts']\n",
      "{'files': [], 'directories': []}\n"
     ]
    }
   ],
   "source": [
    "print(home_items)\n",
    "print(home_content)"
   ]
  },
  {
   "cell_type": "code",
   "execution_count": 13,
   "metadata": {},
   "outputs": [],
   "source": [
    "home_paths = [ os.path.join(home_name , item ) for item in home_items ]\n",
    "for path in home_paths:\n",
    "    if os.path.isdir(path):\n",
    "        home_content['directories'].append(path)\n",
    "    if os.path.isfile(path):\n",
    "        home_content['files'].append(path)"
   ]
  },
  {
   "cell_type": "code",
   "execution_count": 14,
   "metadata": {},
   "outputs": [
    {
     "data": {
      "text/plain": [
       "{'files': ['/home/itaira/.gitconfig',\n",
       "  '/home/itaira/.sudo_as_admin_successful',\n",
       "  '/home/itaira/.bash_history',\n",
       "  '/home/itaira/.zcompdump-itaira-HP-Pavilion-Laptop-15-eh2xxx-5.9.zwc',\n",
       "  '/home/itaira/.profile',\n",
       "  '/home/itaira/.viminfo',\n",
       "  '/home/itaira/.bash_logout',\n",
       "  '/home/itaira/.zcompdump-itaira-HP-Pavilion-Laptop-15-eh2xxx-5.9',\n",
       "  '/home/itaira/.zsh_history',\n",
       "  '/home/itaira/prog_bash',\n",
       "  '/home/itaira/.bashrc.swo',\n",
       "  '/home/itaira/.bashrc',\n",
       "  '/home/itaira/.zcompdump',\n",
       "  '/home/itaira/.bashrc.swp',\n",
       "  '/home/itaira/.zshrc',\n",
       "  '/home/itaira/.wget-hsts'],\n",
       " 'directories': ['/home/itaira/.cache',\n",
       "  '/home/itaira/venv',\n",
       "  '/home/itaira/.local',\n",
       "  '/home/itaira/.dotnet',\n",
       "  '/home/itaira/.oh-my-zsh',\n",
       "  '/home/itaira/.config',\n",
       "  '/home/itaira/proj_py',\n",
       "  '/home/itaira/proj_azure',\n",
       "  '/home/itaira/Templates',\n",
       "  '/home/itaira/Downloads',\n",
       "  '/home/itaira/Documents',\n",
       "  '/home/itaira/Public',\n",
       "  '/home/itaira/projs_aws',\n",
       "  '/home/itaira/.vscode',\n",
       "  '/home/itaira/Pictures',\n",
       "  '/home/itaira/.ssh',\n",
       "  '/home/itaira/snap',\n",
       "  '/home/itaira/Videos',\n",
       "  '/home/itaira/proj_bash',\n",
       "  '/home/itaira/.gnupg',\n",
       "  '/home/itaira/Desktop',\n",
       "  '/home/itaira/.pki',\n",
       "  '/home/itaira/.ipython',\n",
       "  '/home/itaira/Music']}"
      ]
     },
     "execution_count": 14,
     "metadata": {},
     "output_type": "execute_result"
    }
   ],
   "source": [
    "home_content"
   ]
  },
  {
   "cell_type": "code",
   "execution_count": null,
   "metadata": {},
   "outputs": [],
   "source": []
  }
 ],
 "metadata": {
  "kernelspec": {
   "display_name": ".venv",
   "language": "python",
   "name": "python3"
  },
  "language_info": {
   "codemirror_mode": {
    "name": "ipython",
    "version": 3
   },
   "file_extension": ".py",
   "mimetype": "text/x-python",
   "name": "python",
   "nbconvert_exporter": "python",
   "pygments_lexer": "ipython3",
   "version": "3.12.3"
  }
 },
 "nbformat": 4,
 "nbformat_minor": 2
}
