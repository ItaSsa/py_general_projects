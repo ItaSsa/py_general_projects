{
 "cells": [
  {
   "cell_type": "markdown",
   "metadata": {},
   "source": [
    "# More about sys"
   ]
  },
  {
   "cell_type": "code",
   "execution_count": 1,
   "metadata": {},
   "outputs": [
    {
     "name": "stdout",
     "output_type": "stream",
     "text": [
      "/home/itaira/proj_py/py_general_projects/.venv/bin/python\n"
     ]
    }
   ],
   "source": [
    "## Cheking the active kernel \n",
    "import sys\n",
    "print(sys.executable)"
   ]
  },
  {
   "cell_type": "markdown",
   "metadata": {},
   "source": [
    "# Reviewing List"
   ]
  },
  {
   "cell_type": "code",
   "execution_count": 10,
   "metadata": {},
   "outputs": [
    {
     "name": "stdout",
     "output_type": "stream",
     "text": [
      "['.cache', 'venv', '.local', '.dotnet', '.oh-my-zsh', '.config', 'proj_py', '.sudo_as_admin_successful', 'proj_azure', '.bash_history', '.zcompdump-itaira-HP-Pavilion-Laptop-15-eh2xxx-5.9.zwc', '.profile', 'Templates', 'Downloads', '.viminfo', 'Documents', 'Public', '.bash_logout', '.zcompdump-itaira-HP-Pavilion-Laptop-15-eh2xxx-5.9', '.zsh_history', 'projs_aws', 'prog_bash', '.vscode', 'Pictures', '.ssh', '.bashrc.swo', 'snap', 'Videos', '.bashrc', 'proj_bash', '.zcompdump', '.gnupg', '.bashrc.swp', 'Desktop', '.pki', '.zshrc', '.ipython', 'Music', '.wget-hsts']\n",
      "directories list after append['.cache', 'venv', '.local', '.dotnet', '.oh-my-zsh', '.config', 'proj_py', '.sudo_as_admin_successful', 'proj_azure', '.bash_history', '.zcompdump-itaira-HP-Pavilion-Laptop-15-eh2xxx-5.9.zwc', '.profile', 'Templates', 'Downloads', '.viminfo', 'Documents', 'Public', '.bash_logout', '.zcompdump-itaira-HP-Pavilion-Laptop-15-eh2xxx-5.9', '.zsh_history', 'projs_aws', 'prog_bash', '.vscode', 'Pictures', '.ssh', '.bashrc.swo', 'snap', 'Videos', '.bashrc', 'proj_bash', '.zcompdump', '.gnupg', '.bashrc.swp', 'Desktop', '.pki', '.zshrc', '.ipython', 'Music', '.wget-hsts', 'new_directory']\n"
     ]
    }
   ],
   "source": [
    "## Checking directories of filesystem\n",
    "import os\n",
    "directories = os.listdir(\"/home/itaira\")\n",
    "print(directories)"
   ]
  },
  {
   "cell_type": "code",
   "execution_count": 11,
   "metadata": {},
   "outputs": [
    {
     "name": "stdout",
     "output_type": "stream",
     "text": [
      "directories list after append['.cache', 'venv', '.local', '.dotnet', '.oh-my-zsh', '.config', 'proj_py', '.sudo_as_admin_successful', 'proj_azure', '.bash_history', '.zcompdump-itaira-HP-Pavilion-Laptop-15-eh2xxx-5.9.zwc', '.profile', 'Templates', 'Downloads', '.viminfo', 'Documents', 'Public', '.bash_logout', '.zcompdump-itaira-HP-Pavilion-Laptop-15-eh2xxx-5.9', '.zsh_history', 'projs_aws', 'prog_bash', '.vscode', 'Pictures', '.ssh', '.bashrc.swo', 'snap', 'Videos', '.bashrc', 'proj_bash', '.zcompdump', '.gnupg', '.bashrc.swp', 'Desktop', '.pki', '.zshrc', '.ipython', 'Music', '.wget-hsts', 'new_directory', 'new_directory']\n",
      "['dir_1', '.cache', 'venv', '.local', '.dotnet', '.oh-my-zsh', '.config', 'proj_py', '.sudo_as_admin_successful', 'proj_azure', '.bash_history', '.zcompdump-itaira-HP-Pavilion-Laptop-15-eh2xxx-5.9.zwc', '.profile', 'Templates', 'Downloads', '.viminfo', 'Documents', 'Public', '.bash_logout', '.zcompdump-itaira-HP-Pavilion-Laptop-15-eh2xxx-5.9', '.zsh_history', 'projs_aws', 'prog_bash', '.vscode', 'Pictures', '.ssh', '.bashrc.swo', 'snap', 'Videos', '.bashrc', 'proj_bash', '.zcompdump', '.gnupg', '.bashrc.swp', 'Desktop', '.pki', '.zshrc', '.ipython', 'Music', '.wget-hsts', 'new_directory', 'new_directory']\n"
     ]
    }
   ],
   "source": [
    "# append in list\n",
    "directories.append(\"new_directory\")\n",
    "print(f\"directories list after append{directories}\")\n"
   ]
  },
  {
   "cell_type": "code",
   "execution_count": 12,
   "metadata": {},
   "outputs": [
    {
     "name": "stdout",
     "output_type": "stream",
     "text": [
      "['dir_1', 'dir_1', '.cache', 'venv', '.local', '.dotnet', '.oh-my-zsh', '.config', 'proj_py', '.sudo_as_admin_successful', 'proj_azure', '.bash_history', '.zcompdump-itaira-HP-Pavilion-Laptop-15-eh2xxx-5.9.zwc', '.profile', 'Templates', 'Downloads', '.viminfo', 'Documents', 'Public', '.bash_logout', '.zcompdump-itaira-HP-Pavilion-Laptop-15-eh2xxx-5.9', '.zsh_history', 'projs_aws', 'prog_bash', '.vscode', 'Pictures', '.ssh', '.bashrc.swo', 'snap', 'Videos', '.bashrc', 'proj_bash', '.zcompdump', '.gnupg', '.bashrc.swp', 'Desktop', '.pki', '.zshrc', '.ipython', 'Music', '.wget-hsts', 'new_directory', 'new_directory']\n"
     ]
    }
   ],
   "source": [
    "#append in a certain position\n",
    "directories.insert(0,'dir_1')\n",
    "print(directories)"
   ]
  },
  {
   "cell_type": "code",
   "execution_count": 14,
   "metadata": {},
   "outputs": [
    {
     "data": {
      "text/plain": [
       "3"
      ]
     },
     "execution_count": 14,
     "metadata": {},
     "output_type": "execute_result"
    }
   ],
   "source": [
    "# Getting a index from one element\n",
    "directories.index('dir_1')\n",
    "\n",
    "directories.index('venv')"
   ]
  },
  {
   "cell_type": "markdown",
   "metadata": {},
   "source": [
    "# Dictionaries"
   ]
  },
  {
   "cell_type": "code",
   "execution_count": null,
   "metadata": {},
   "outputs": [],
   "source": []
  }
 ],
 "metadata": {
  "kernelspec": {
   "display_name": ".venv",
   "language": "python",
   "name": "python3"
  },
  "language_info": {
   "codemirror_mode": {
    "name": "ipython",
    "version": 3
   },
   "file_extension": ".py",
   "mimetype": "text/x-python",
   "name": "python",
   "nbconvert_exporter": "python",
   "pygments_lexer": "ipython3",
   "version": "3.12.3"
  }
 },
 "nbformat": 4,
 "nbformat_minor": 2
}
