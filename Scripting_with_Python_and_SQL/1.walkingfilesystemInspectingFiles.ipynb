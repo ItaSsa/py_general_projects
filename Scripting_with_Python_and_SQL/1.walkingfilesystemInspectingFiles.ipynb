{
 "cells": [
  {
   "cell_type": "code",
   "execution_count": 1,
   "metadata": {},
   "outputs": [
    {
     "name": "stdout",
     "output_type": "stream",
     "text": [
      "('.', ['.venv', '.git', 'Scripting with Python and SQL for Data Engineering'], ['LICENSE', '.gitignore', 'README.md'])\n"
     ]
    }
   ],
   "source": [
    "import os\n",
    "\n",
    "# yields the 'current' dir, then the directories, and then any files it finds\n",
    "# for each level it traverses\n",
    "for path_info in os.walk('.'):\n",
    "    print(path_info)\n",
    "    break\n"
   ]
  },
  {
   "cell_type": "code",
   "execution_count": 2,
   "metadata": {},
   "outputs": [
    {
     "name": "stdout",
     "output_type": "stream",
     "text": [
      "/home/itaira/proj_py/py_general_projects/.venv\n",
      "/home/itaira/proj_py/py_general_projects/.git\n",
      "/home/itaira/proj_py/py_general_projects/Scripting with Python and SQL for Data Engineering\n",
      "/home/itaira/proj_py/py_general_projects/LICENSE\n",
      "/home/itaira/proj_py/py_general_projects/.gitignore\n",
      "/home/itaira/proj_py/py_general_projects/README.md\n"
     ]
    }
   ],
   "source": [
    "import os\n",
    "from os.path import abspath, join\n",
    "\n",
    "# producing absolute paths, instead of a tuple of three items\n",
    "for top_dir, directories, files in os.walk('.'):\n",
    "    for directory in directories:\n",
    "        print(abspath(join(top_dir, directory)))\n",
    "    for _file in files:\n",
    "        print(abspath(join(top_dir, _file)))\n",
    "    break\n"
   ]
  },
  {
   "cell_type": "code",
   "execution_count": 1,
   "metadata": {},
   "outputs": [
    {
     "name": "stdout",
     "output_type": "stream",
     "text": [
      "Path: /home/itaira/proj_py/py_general_projects/Scripting with Python and SQL for Data Engineering/dataStructures.ipynb, size: 13134\n",
      "Path: /home/itaira/proj_py/py_general_projects/Scripting with Python and SQL for Data Engineering/filesSubdirectoriesDictionaryUsingOs.ipynb, size: 4155\n",
      "Path: /home/itaira/proj_py/py_general_projects/Scripting with Python and SQL for Data Engineering/walkingfilesystemInspectingFiles.ipynb, size: 2814\n",
      "Path: /home/itaira/proj_py/py_general_projects/Scripting with Python and SQL for Data Engineering/crossStructuresCase.ipynb, size: 234\n"
     ]
    }
   ],
   "source": [
    "# Now that absolute paths are shown, we can inspect them for file metadata\n",
    "\n",
    "import os\n",
    "from os.path import abspath, join, getsize\n",
    "\n",
    "sizes = {}\n",
    "# Getting the size of each file\n",
    "for top_dir, directories, files in os.walk('.'):\n",
    "    for _file in files:\n",
    "        full_path = abspath(join(top_dir, _file))\n",
    "        size = getsize(full_path)\n",
    "        sizes[full_path] = size\n",
    "        #break\n",
    "\n",
    "# put files in reversed order of size\n",
    "# key=sizes.get sorts the dictionary by its values instead of its keys.\n",
    "sorted_results = sorted(sizes, key=sizes.get, reverse=True)\n",
    "\n",
    "for path in sorted_results[:10]:\n",
    "    print(\"Path: {0}, size: {1}\".format(path, sizes[path]))\n"
   ]
  },
  {
   "cell_type": "code",
   "execution_count": 2,
   "metadata": {},
   "outputs": [
    {
     "data": {
      "text/plain": [
       "{'/home/itaira/proj_py/py_general_projects/Scripting with Python and SQL for Data Engineering/filesSubdirectoriesDictionaryUsingOs.ipynb': 4155,\n",
       " '/home/itaira/proj_py/py_general_projects/Scripting with Python and SQL for Data Engineering/walkingfilesystemInspectingFiles.ipynb': 2814,\n",
       " '/home/itaira/proj_py/py_general_projects/Scripting with Python and SQL for Data Engineering/crossStructuresCase.ipynb': 234,\n",
       " '/home/itaira/proj_py/py_general_projects/Scripting with Python and SQL for Data Engineering/dataStructures.ipynb': 13134}"
      ]
     },
     "execution_count": 2,
     "metadata": {},
     "output_type": "execute_result"
    }
   ],
   "source": [
    "sizes"
   ]
  },
  {
   "cell_type": "code",
   "execution_count": 8,
   "metadata": {},
   "outputs": [
    {
     "name": "stdout",
     "output_type": "stream",
     "text": [
      "None\n"
     ]
    }
   ],
   "source": []
  },
  {
   "cell_type": "code",
   "execution_count": null,
   "metadata": {},
   "outputs": [],
   "source": []
  }
 ],
 "metadata": {
  "kernelspec": {
   "display_name": ".venv",
   "language": "python",
   "name": "python3"
  },
  "language_info": {
   "codemirror_mode": {
    "name": "ipython",
    "version": 3
   },
   "file_extension": ".py",
   "mimetype": "text/x-python",
   "name": "python",
   "nbconvert_exporter": "python",
   "pygments_lexer": "ipython3",
   "version": "3.12.3"
  }
 },
 "nbformat": 4,
 "nbformat_minor": 2
}
