{
 "cells": [
  {
   "cell_type": "markdown",
   "metadata": {},
   "source": [
    "### Verifying if mysqldump is available"
   ]
  },
  {
   "cell_type": "code",
   "execution_count": 1,
   "metadata": {},
   "outputs": [
    {
     "name": "stdout",
     "output_type": "stream",
     "text": [
      "/usr/bin/mysqldump\n"
     ]
    }
   ],
   "source": [
    "!which mysqldump"
   ]
  },
  {
   "cell_type": "markdown",
   "metadata": {},
   "source": [
    "### Creating a sql dump file for rating tables"
   ]
  },
  {
   "cell_type": "markdown",
   "metadata": {},
   "source": [
    "To avoid the need to prompt password in the command bellow:\n",
    " create /tmp/mysql-credentials.cnf\n",
    " include: [client]`\n",
    "user=username\n",
    "password=Password"
   ]
  },
  {
   "cell_type": "code",
   "execution_count": 4,
   "metadata": {},
   "outputs": [],
   "source": [
    "!mysqldump --defaults-extra-file=/tmp/mysql-credentials.cnf ratings > dumpratings.sql"
   ]
  },
  {
   "cell_type": "code",
   "execution_count": 6,
   "metadata": {},
   "outputs": [
    {
     "name": "stdout",
     "output_type": "stream",
     "text": [
      "ls: cannot open directory '/var/lib/mysql-files/': Permission denied\n"
     ]
    }
   ],
   "source": [
    "!ls -lah /var/lib/mysql-files/"
   ]
  },
  {
   "cell_type": "markdown",
   "metadata": {},
   "source": [
    "It will ask prompt password"
   ]
  },
  {
   "cell_type": "code",
   "execution_count": null,
   "metadata": {},
   "outputs": [
    {
     "name": "stdout",
     "output_type": "stream",
     "text": [
      "mysqldump: [Warning] Using a password on the command line interface can be insecure.\n"
     ]
    }
   ],
   "source": [
    "!mysqldump -u root -p ratings > export.sql"
   ]
  },
  {
   "cell_type": "code",
   "execution_count": null,
   "metadata": {},
   "outputs": [],
   "source": []
  }
 ],
 "metadata": {
  "kernelspec": {
   "display_name": ".venv",
   "language": "python",
   "name": "python3"
  },
  "language_info": {
   "codemirror_mode": {
    "name": "ipython",
    "version": 3
   },
   "file_extension": ".py",
   "mimetype": "text/x-python",
   "name": "python",
   "nbconvert_exporter": "python",
   "pygments_lexer": "ipython3",
   "version": "3.12.3"
  }
 },
 "nbformat": 4,
 "nbformat_minor": 2
}
