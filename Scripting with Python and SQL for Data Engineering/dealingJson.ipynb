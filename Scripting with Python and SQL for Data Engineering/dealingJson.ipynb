{
 "cells": [
  {
   "cell_type": "code",
   "execution_count": 12,
   "metadata": {},
   "outputs": [],
   "source": [
    "import json"
   ]
  },
  {
   "cell_type": "markdown",
   "metadata": {},
   "source": [
    "## Serialize JSON from Python"
   ]
  },
  {
   "cell_type": "code",
   "execution_count": 16,
   "metadata": {},
   "outputs": [
    {
     "data": {
      "text/plain": [
       "dict"
      ]
     },
     "execution_count": 16,
     "metadata": {},
     "output_type": "execute_result"
    }
   ],
   "source": [
    "data = {\"grape\": \"Cabernet Franc\", \"species\": \"Vitis vinifera\", \"origin\": \"Bordeaux, France\"}\n",
    "type(data)"
   ]
  },
  {
   "cell_type": "code",
   "execution_count": 18,
   "metadata": {},
   "outputs": [
    {
     "name": "stdout",
     "output_type": "stream",
     "text": [
      "<class 'str'>\n",
      "{\"grape\": \"Cabernet Franc\", \"species\": \"Vitis vinifera\", \"origin\": \"Bordeaux, France\"}\n"
     ]
    }
   ],
   "source": [
    "# Get a json string from a dict\n",
    "json_string = json.dumps(data)\n",
    "print(type(json_string))\n",
    "print(json_string)"
   ]
  },
  {
   "cell_type": "code",
   "execution_count": 22,
   "metadata": {},
   "outputs": [
    {
     "name": "stdout",
     "output_type": "stream",
     "text": [
      "<class 'str'>\n",
      "{\n",
      "    \"grape\": \"Cabernet Franc\",\n",
      "    \"species\": \"Vitis vinifera\",\n",
      "    \"origin\": \"Bordeaux, France\"\n",
      "}\n"
     ]
    }
   ],
   "source": [
    "# Format json string\n",
    "# Using 4 spaces to indentation\n",
    "json_string_formatted = json.dumps( data , sort_keys = False, indent=4)\n",
    "print(type(json_string_formatted))\n",
    "print(json_string_formatted)"
   ]
  },
  {
   "cell_type": "code",
   "execution_count": 23,
   "metadata": {},
   "outputs": [
    {
     "name": "stdout",
     "output_type": "stream",
     "text": [
      "<class 'str'>\n",
      "{\n",
      "  \"grape\": \"Cabernet Franc\",\n",
      "  \"species\": \"Vitis vinifera\",\n",
      "  \"origin\": \"Bordeaux, France\"\n",
      "}\n"
     ]
    }
   ],
   "source": [
    "# Format json string\n",
    "# Using 2 spaces to indentation\n",
    "json_string_formatted = json.dumps( data , sort_keys = False, indent=2)\n",
    "print(type(json_string_formatted))\n",
    "print(json_string_formatted)"
   ]
  },
  {
   "cell_type": "markdown",
   "metadata": {},
   "source": [
    "## Serialize Json from a file"
   ]
  },
  {
   "cell_type": "code",
   "execution_count": 26,
   "metadata": {},
   "outputs": [
    {
     "data": {
      "text/plain": [
       "True"
      ]
     },
     "execution_count": 26,
     "metadata": {},
     "output_type": "execute_result"
    }
   ],
   "source": [
    "import os\n",
    "file = \"datasources/users.json\"\n",
    "#checking file existence\n",
    "os.path.exists(file)"
   ]
  },
  {
   "cell_type": "code",
   "execution_count": 33,
   "metadata": {},
   "outputs": [
    {
     "name": "stdout",
     "output_type": "stream",
     "text": [
      "<class 'list'>\n",
      "[{'user_id': '583c3ac3f38e84297c002546', 'email': 'test@test.com', 'name': 'test@test.com', 'given_name': 'Hello', 'family_name': 'Test', 'nickname': 'test', 'last_ip': '94.121.163.63', 'logins_count': 15, 'created_at': '2016-11-28T14:10:11.338Z', 'updated_at': '2016-12-02T01:17:29.310Z', 'last_login': '2016-12-02T01:17:29.310Z', 'email_verified': True}, {'user_id': '583c5484cb79a5fe593425a9', 'email': 'test1@test.com', 'name': 'test1@test.com', 'given_name': 'Hello1', 'family_name': 'Test1', 'nickname': 'test1', 'last_ip': '94.121.168.53', 'logins_count': 1, 'created_at': '2016-11-28T16:00:04.209Z', 'updated_at': '2016-11-28T16:00:47.203Z', 'last_login': '2016-11-28T16:00:47.203Z', 'email_verified': True}, {'user_id': '583c57672c7686377d2f66c9', 'email': 'aaa@aaa.com', 'name': 'aaa@aaa.com', 'given_name': 'John', 'family_name': 'Dough', 'nickname': 'aaa', 'last_ip': '94.121.168.53', 'logins_count': 2, 'created_at': '2016-11-28T16:12:23.777Z', 'updated_at': '2016-11-28T16:12:52.353Z', 'last_login': '2016-11-28T16:12:52.353Z', 'email_verified': True}, {'user_id': '5840b954da0529cd293d76fe', 'email': 'a@a.com', 'name': 'a@a.com', 'given_name': 'Jane', 'family_name': 'Dough', 'nickname': 'a', 'last_ip': '94.121.163.63', 'logins_count': 3, 'created_at': '2016-12-01T23:59:16.473Z', 'updated_at': '2016-12-01T23:59:53.474Z', 'last_login': '2016-12-01T23:59:53.474Z', 'email_verified': True}, {'user_id': '584a9d13e808bcf75f05f580', 'email': 'test9999@test.com', 'given_name': 'Dummy', 'family_name': 'User', 'created_at': '2016-12-09T12:01:23.787Z', 'updated_at': '2016-12-09T12:01:23.787Z', 'email_verified': False}]\n"
     ]
    }
   ],
   "source": [
    "# Reading a file\n",
    "with open(file) as f:\n",
    "    loaded_json = json.load(f)\n",
    "print(type(loaded_json))\n",
    "print(loaded_json)"
   ]
  },
  {
   "cell_type": "markdown",
   "metadata": {},
   "source": [
    "## Serialize from Python to a JSON file"
   ]
  },
  {
   "cell_type": "code",
   "execution_count": 35,
   "metadata": {},
   "outputs": [
    {
     "name": "stdout",
     "output_type": "stream",
     "text": [
      "{'user_id': '583c3ac3f38e84297c002546', 'email': 'test@test.com', 'name': 'test@test.com', 'given_name': 'Hello', 'family_name': 'Test', 'nickname': 'test', 'last_ip': '94.121.163.63', 'logins_count': 15, 'created_at': '2016-11-28T14:10:11.338Z', 'updated_at': '2016-12-02T01:17:29.310Z', 'last_login': '2016-12-02T01:17:29.310Z', 'email_verified': True}\n",
      "<class 'dict'>\n"
     ]
    }
   ],
   "source": [
    "# sample some items from the json file and then save it as a new file\n",
    "user1 = loaded_json[0]\n",
    "print(user1)\n",
    "print(type(user1))"
   ]
  },
  {
   "cell_type": "code",
   "execution_count": 36,
   "metadata": {},
   "outputs": [],
   "source": [
    "# now use the `.dump()` JSON method (note no 's'!) to save it to a new JSON file\n",
    "with open('datasources/user1.json', 'w') as f:\n",
    "    json.dump(user1, f)"
   ]
  },
  {
   "cell_type": "code",
   "execution_count": 42,
   "metadata": {},
   "outputs": [],
   "source": [
    "## Loading from Disk\n",
    "with open('datasources/user1.json') as f:\n",
    "    json_load = json.load(f)"
   ]
  },
  {
   "cell_type": "code",
   "execution_count": 40,
   "metadata": {},
   "outputs": [
    {
     "name": "stdout",
     "output_type": "stream",
     "text": [
      "<class 'dict'>\n"
     ]
    }
   ],
   "source": [
    "print(type(json_load))"
   ]
  },
  {
   "cell_type": "code",
   "execution_count": 43,
   "metadata": {},
   "outputs": [
    {
     "name": "stdout",
     "output_type": "stream",
     "text": [
      "<class 'str'>\n",
      "{\n",
      "    \"user_id\": \"583c3ac3f38e84297c002546\",\n",
      "    \"email\": \"test@test.com\",\n",
      "    \"name\": \"test@test.com\",\n",
      "    \"given_name\": \"Hello\",\n",
      "    \"family_name\": \"Test\",\n",
      "    \"nickname\": \"test\",\n",
      "    \"last_ip\": \"94.121.163.63\",\n",
      "    \"logins_count\": 15,\n",
      "    \"created_at\": \"2016-11-28T14:10:11.338Z\",\n",
      "    \"updated_at\": \"2016-12-02T01:17:29.310Z\",\n",
      "    \"last_login\": \"2016-12-02T01:17:29.310Z\",\n",
      "    \"email_verified\": true\n",
      "}\n"
     ]
    }
   ],
   "source": [
    "json_string_formatted2 = json.dumps( json_load , sort_keys = False, indent=4)\n",
    "print(type(json_string_formatted2))\n",
    "print(json_string_formatted2)"
   ]
  },
  {
   "cell_type": "code",
   "execution_count": 48,
   "metadata": {},
   "outputs": [],
   "source": [
    "# Now load it into Python\n",
    "# mnemonic: loads -> LOAD from String\n",
    "python_str = json.loads(json_string_formatted2)"
   ]
  },
  {
   "cell_type": "code",
   "execution_count": 49,
   "metadata": {},
   "outputs": [
    {
     "data": {
      "text/plain": [
       "dict"
      ]
     },
     "execution_count": 49,
     "metadata": {},
     "output_type": "execute_result"
    }
   ],
   "source": [
    "type(python_str)"
   ]
  },
  {
   "cell_type": "code",
   "execution_count": 50,
   "metadata": {},
   "outputs": [
    {
     "data": {
      "text/plain": [
       "{'user_id': '583c3ac3f38e84297c002546',\n",
       " 'email': 'test@test.com',\n",
       " 'name': 'test@test.com',\n",
       " 'given_name': 'Hello',\n",
       " 'family_name': 'Test',\n",
       " 'nickname': 'test',\n",
       " 'last_ip': '94.121.163.63',\n",
       " 'logins_count': 15,\n",
       " 'created_at': '2016-11-28T14:10:11.338Z',\n",
       " 'updated_at': '2016-12-02T01:17:29.310Z',\n",
       " 'last_login': '2016-12-02T01:17:29.310Z',\n",
       " 'email_verified': True}"
      ]
     },
     "execution_count": 50,
     "metadata": {},
     "output_type": "execute_result"
    }
   ],
   "source": [
    "python_str"
   ]
  },
  {
   "cell_type": "code",
   "execution_count": null,
   "metadata": {},
   "outputs": [],
   "source": []
  }
 ],
 "metadata": {
  "kernelspec": {
   "display_name": ".venv",
   "language": "python",
   "name": "python3"
  },
  "language_info": {
   "codemirror_mode": {
    "name": "ipython",
    "version": 3
   },
   "file_extension": ".py",
   "mimetype": "text/x-python",
   "name": "python",
   "nbconvert_exporter": "python",
   "pygments_lexer": "ipython3",
   "version": "3.12.3"
  }
 },
 "nbformat": 4,
 "nbformat_minor": 2
}
