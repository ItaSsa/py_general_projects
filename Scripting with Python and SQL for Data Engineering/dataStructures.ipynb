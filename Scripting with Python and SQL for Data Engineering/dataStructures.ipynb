{
 "cells": [
  {
   "cell_type": "markdown",
   "metadata": {},
   "source": [
    "# More about sys"
   ]
  },
  {
   "cell_type": "code",
   "execution_count": 1,
   "metadata": {},
   "outputs": [
    {
     "name": "stdout",
     "output_type": "stream",
     "text": [
      "/home/itaira/proj_py/py_general_projects/.venv/bin/python\n"
     ]
    }
   ],
   "source": [
    "## Cheking the active kernel \n",
    "import sys\n",
    "print(sys.executable)"
   ]
  },
  {
   "cell_type": "markdown",
   "metadata": {},
   "source": [
    "# Reviewing List"
   ]
  },
  {
   "cell_type": "code",
   "execution_count": 10,
   "metadata": {},
   "outputs": [
    {
     "name": "stdout",
     "output_type": "stream",
     "text": [
      "['.cache', 'venv', '.local', '.dotnet', '.oh-my-zsh', '.config', 'proj_py', '.sudo_as_admin_successful', 'proj_azure', '.bash_history', '.zcompdump-itaira-HP-Pavilion-Laptop-15-eh2xxx-5.9.zwc', '.profile', 'Templates', 'Downloads', '.viminfo', 'Documents', 'Public', '.bash_logout', '.zcompdump-itaira-HP-Pavilion-Laptop-15-eh2xxx-5.9', '.zsh_history', 'projs_aws', 'prog_bash', '.vscode', 'Pictures', '.ssh', '.bashrc.swo', 'snap', 'Videos', '.bashrc', 'proj_bash', '.zcompdump', '.gnupg', '.bashrc.swp', 'Desktop', '.pki', '.zshrc', '.ipython', 'Music', '.wget-hsts']\n",
      "directories list after append['.cache', 'venv', '.local', '.dotnet', '.oh-my-zsh', '.config', 'proj_py', '.sudo_as_admin_successful', 'proj_azure', '.bash_history', '.zcompdump-itaira-HP-Pavilion-Laptop-15-eh2xxx-5.9.zwc', '.profile', 'Templates', 'Downloads', '.viminfo', 'Documents', 'Public', '.bash_logout', '.zcompdump-itaira-HP-Pavilion-Laptop-15-eh2xxx-5.9', '.zsh_history', 'projs_aws', 'prog_bash', '.vscode', 'Pictures', '.ssh', '.bashrc.swo', 'snap', 'Videos', '.bashrc', 'proj_bash', '.zcompdump', '.gnupg', '.bashrc.swp', 'Desktop', '.pki', '.zshrc', '.ipython', 'Music', '.wget-hsts', 'new_directory']\n"
     ]
    }
   ],
   "source": [
    "## Checking directories of filesystem\n",
    "import os\n",
    "directories = os.listdir(\"/home/itaira\")\n",
    "print(directories)"
   ]
  },
  {
   "cell_type": "code",
   "execution_count": 11,
   "metadata": {},
   "outputs": [
    {
     "name": "stdout",
     "output_type": "stream",
     "text": [
      "directories list after append['.cache', 'venv', '.local', '.dotnet', '.oh-my-zsh', '.config', 'proj_py', '.sudo_as_admin_successful', 'proj_azure', '.bash_history', '.zcompdump-itaira-HP-Pavilion-Laptop-15-eh2xxx-5.9.zwc', '.profile', 'Templates', 'Downloads', '.viminfo', 'Documents', 'Public', '.bash_logout', '.zcompdump-itaira-HP-Pavilion-Laptop-15-eh2xxx-5.9', '.zsh_history', 'projs_aws', 'prog_bash', '.vscode', 'Pictures', '.ssh', '.bashrc.swo', 'snap', 'Videos', '.bashrc', 'proj_bash', '.zcompdump', '.gnupg', '.bashrc.swp', 'Desktop', '.pki', '.zshrc', '.ipython', 'Music', '.wget-hsts', 'new_directory', 'new_directory']\n",
      "['dir_1', '.cache', 'venv', '.local', '.dotnet', '.oh-my-zsh', '.config', 'proj_py', '.sudo_as_admin_successful', 'proj_azure', '.bash_history', '.zcompdump-itaira-HP-Pavilion-Laptop-15-eh2xxx-5.9.zwc', '.profile', 'Templates', 'Downloads', '.viminfo', 'Documents', 'Public', '.bash_logout', '.zcompdump-itaira-HP-Pavilion-Laptop-15-eh2xxx-5.9', '.zsh_history', 'projs_aws', 'prog_bash', '.vscode', 'Pictures', '.ssh', '.bashrc.swo', 'snap', 'Videos', '.bashrc', 'proj_bash', '.zcompdump', '.gnupg', '.bashrc.swp', 'Desktop', '.pki', '.zshrc', '.ipython', 'Music', '.wget-hsts', 'new_directory', 'new_directory']\n"
     ]
    }
   ],
   "source": [
    "# append in list\n",
    "directories.append(\"new_directory\")\n",
    "print(f\"directories list after append{directories}\")\n"
   ]
  },
  {
   "cell_type": "code",
   "execution_count": 12,
   "metadata": {},
   "outputs": [
    {
     "name": "stdout",
     "output_type": "stream",
     "text": [
      "['dir_1', 'dir_1', '.cache', 'venv', '.local', '.dotnet', '.oh-my-zsh', '.config', 'proj_py', '.sudo_as_admin_successful', 'proj_azure', '.bash_history', '.zcompdump-itaira-HP-Pavilion-Laptop-15-eh2xxx-5.9.zwc', '.profile', 'Templates', 'Downloads', '.viminfo', 'Documents', 'Public', '.bash_logout', '.zcompdump-itaira-HP-Pavilion-Laptop-15-eh2xxx-5.9', '.zsh_history', 'projs_aws', 'prog_bash', '.vscode', 'Pictures', '.ssh', '.bashrc.swo', 'snap', 'Videos', '.bashrc', 'proj_bash', '.zcompdump', '.gnupg', '.bashrc.swp', 'Desktop', '.pki', '.zshrc', '.ipython', 'Music', '.wget-hsts', 'new_directory', 'new_directory']\n"
     ]
    }
   ],
   "source": [
    "#append in a certain position\n",
    "directories.insert(0,'dir_1')\n",
    "print(directories)"
   ]
  },
  {
   "cell_type": "code",
   "execution_count": 14,
   "metadata": {},
   "outputs": [
    {
     "data": {
      "text/plain": [
       "3"
      ]
     },
     "execution_count": 14,
     "metadata": {},
     "output_type": "execute_result"
    }
   ],
   "source": [
    "# Getting a index from one element\n",
    "directories.index('dir_1')\n",
    "\n",
    "directories.index('venv')"
   ]
  },
  {
   "cell_type": "markdown",
   "metadata": {},
   "source": [
    "# Dictionaries"
   ]
  },
  {
   "cell_type": "code",
   "execution_count": 3,
   "metadata": {},
   "outputs": [],
   "source": [
    "#Using get\n",
    "contacts = {\"Name\": \"Mirtilo\" , \"lastname\": \"Suess\"}\n",
    "contacts.get(\"name\")"
   ]
  },
  {
   "cell_type": "code",
   "execution_count": 4,
   "metadata": {},
   "outputs": [
    {
     "data": {
      "text/plain": [
       "'Unknown'"
      ]
     },
     "execution_count": 4,
     "metadata": {},
     "output_type": "execute_result"
    }
   ],
   "source": [
    "contacts.get(\"phone\",\"Unknown\")"
   ]
  },
  {
   "cell_type": "code",
   "execution_count": 6,
   "metadata": {},
   "outputs": [
    {
     "data": {
      "text/plain": [
       "dict_keys(['Name', 'lastname'])"
      ]
     },
     "execution_count": 6,
     "metadata": {},
     "output_type": "execute_result"
    }
   ],
   "source": [
    "# Checking all key\n",
    "contacts.keys()"
   ]
  },
  {
   "cell_type": "code",
   "execution_count": 9,
   "metadata": {},
   "outputs": [
    {
     "data": {
      "text/plain": [
       "dict_values(['Mirtilo', 'Suess'])"
      ]
     },
     "execution_count": 9,
     "metadata": {},
     "output_type": "execute_result"
    }
   ],
   "source": [
    "#Getting values\n",
    "contacts.values()"
   ]
  },
  {
   "cell_type": "code",
   "execution_count": 10,
   "metadata": {},
   "outputs": [],
   "source": [
    "#Put in data\n",
    "contacts['phone'] = '123-452-7545'\n"
   ]
  },
  {
   "cell_type": "code",
   "execution_count": 11,
   "metadata": {},
   "outputs": [
    {
     "data": {
      "text/plain": [
       "{'Name': 'Mirtilo', 'lastname': 'Suess', 'phone': '123-452-7545'}"
      ]
     },
     "execution_count": 11,
     "metadata": {},
     "output_type": "execute_result"
    }
   ],
   "source": [
    "contacts"
   ]
  },
  {
   "cell_type": "markdown",
   "metadata": {},
   "source": [
    "# Tuples\n",
    "#### With order no changeble"
   ]
  },
  {
   "cell_type": "code",
   "execution_count": 13,
   "metadata": {},
   "outputs": [
    {
     "data": {
      "text/plain": [
       "tuple"
      ]
     },
     "execution_count": 13,
     "metadata": {},
     "output_type": "execute_result"
    }
   ],
   "source": [
    "test = (1,2,3,3)\n",
    "type(test)"
   ]
  },
  {
   "cell_type": "code",
   "execution_count": 15,
   "metadata": {},
   "outputs": [
    {
     "ename": "TypeError",
     "evalue": "'tuple' object does not support item assignment",
     "output_type": "error",
     "traceback": [
      "\u001b[0;31m---------------------------------------------------------------------------\u001b[0m",
      "\u001b[0;31mTypeError\u001b[0m                                 Traceback (most recent call last)",
      "Cell \u001b[0;32mIn[15], line 1\u001b[0m\n\u001b[0;32m----> 1\u001b[0m \u001b[43mtest\u001b[49m\u001b[43m[\u001b[49m\u001b[38;5;241;43m0\u001b[39;49m\u001b[43m]\u001b[49m \u001b[38;5;241m=\u001b[39m \u001b[38;5;241m5\u001b[39m\n",
      "\u001b[0;31mTypeError\u001b[0m: 'tuple' object does not support item assignment"
     ]
    }
   ],
   "source": [
    "test[0] = 5"
   ]
  },
  {
   "cell_type": "markdown",
   "metadata": {},
   "source": [
    "# Set"
   ]
  },
  {
   "cell_type": "code",
   "execution_count": 16,
   "metadata": {},
   "outputs": [
    {
     "name": "stdout",
     "output_type": "stream",
     "text": [
      "<class 'set'>\n",
      "{1, 2, 3}\n"
     ]
    }
   ],
   "source": [
    "unique = {1,2,3,2,2,}\n",
    "print(type(unique))\n",
    "print(unique)"
   ]
  },
  {
   "cell_type": "code",
   "execution_count": 17,
   "metadata": {},
   "outputs": [
    {
     "ename": "TypeError",
     "evalue": "'set' object is not subscriptable",
     "output_type": "error",
     "traceback": [
      "\u001b[0;31m---------------------------------------------------------------------------\u001b[0m",
      "\u001b[0;31mTypeError\u001b[0m                                 Traceback (most recent call last)",
      "Cell \u001b[0;32mIn[17], line 1\u001b[0m\n\u001b[0;32m----> 1\u001b[0m \u001b[38;5;28mprint\u001b[39m(\u001b[43munique\u001b[49m\u001b[43m[\u001b[49m\u001b[38;5;241;43m1\u001b[39;49m\u001b[43m]\u001b[49m)\n",
      "\u001b[0;31mTypeError\u001b[0m: 'set' object is not subscriptable"
     ]
    }
   ],
   "source": [
    "print(unique[1])"
   ]
  },
  {
   "cell_type": "code",
   "execution_count": 20,
   "metadata": {},
   "outputs": [
    {
     "data": {
      "text/plain": [
       "{1, 2, 3, 6}"
      ]
     },
     "execution_count": 20,
     "metadata": {},
     "output_type": "execute_result"
    }
   ],
   "source": [
    "# Adding elements\n",
    "unique.add(6)\n",
    "unique\n"
   ]
  },
  {
   "cell_type": "markdown",
   "metadata": {},
   "source": [
    "# Loop and list comprehension"
   ]
  },
  {
   "cell_type": "code",
   "execution_count": 21,
   "metadata": {},
   "outputs": [
    {
     "name": "stdout",
     "output_type": "stream",
     "text": [
      "America\n",
      "Oceania\n",
      "Europe\n"
     ]
    }
   ],
   "source": [
    "long_names = ['Asia','America','Oceania','Europe']\n",
    "\n",
    "for name in long_names:\n",
    "    if len(name) > 5:\n",
    "        print(name)"
   ]
  },
  {
   "cell_type": "code",
   "execution_count": 24,
   "metadata": {},
   "outputs": [
    {
     "name": "stdout",
     "output_type": "stream",
     "text": [
      "['America', 'Oceania', 'Europe']\n"
     ]
    }
   ],
   "source": [
    "new_list = [name for name in long_names if len(name)>5]\n",
    "print(new_list)"
   ]
  },
  {
   "cell_type": "markdown",
   "metadata": {},
   "source": [
    "# Loopping dictionaries"
   ]
  },
  {
   "cell_type": "code",
   "execution_count": 26,
   "metadata": {},
   "outputs": [
    {
     "data": {
      "text/plain": [
       "{'name': 'Mara', 'lastname': 'Ilsa', 'address': 'Monte Alp, 45'}"
      ]
     },
     "execution_count": 26,
     "metadata": {},
     "output_type": "execute_result"
    }
   ],
   "source": [
    "person = {'name':'Mara', 'lastname':'Ilsa','address':'Monte Alp, 45'}\n",
    "person"
   ]
  },
  {
   "cell_type": "code",
   "execution_count": 28,
   "metadata": {},
   "outputs": [
    {
     "name": "stdout",
     "output_type": "stream",
     "text": [
      " Key: name and value:Mara\n",
      " Key: lastname and value:Ilsa\n",
      " Key: address and value:Monte Alp, 45\n"
     ]
    }
   ],
   "source": [
    "for key,value in person.items():\n",
    "    print(f\" Key: {key} and value:{value}\")"
   ]
  },
  {
   "cell_type": "markdown",
   "metadata": {},
   "source": [
    "# Loopping Sets and Tupples"
   ]
  },
  {
   "cell_type": "code",
   "execution_count": 31,
   "metadata": {},
   "outputs": [
    {
     "name": "stdout",
     "output_type": "stream",
     "text": [
      "1\n",
      "3\n",
      "4\n",
      "5\n"
     ]
    }
   ],
   "source": [
    "#Loop over set\n",
    "\n",
    "set1 = {1,3,3,3,4,5}\n",
    "for item in set1:\n",
    "    print(item)"
   ]
  },
  {
   "cell_type": "code",
   "execution_count": 34,
   "metadata": {},
   "outputs": [
    {
     "name": "stdout",
     "output_type": "stream",
     "text": [
      "2\n",
      "5\n",
      "5\n",
      "56\n",
      "6\n",
      "67\n"
     ]
    }
   ],
   "source": [
    "# Loop over Tuple\n",
    "tuple2=(2,5,5,56,6,67)\n",
    "for item in tuple2:\n",
    "    print(item)\n"
   ]
  },
  {
   "cell_type": "code",
   "execution_count": null,
   "metadata": {},
   "outputs": [],
   "source": []
  }
 ],
 "metadata": {
  "kernelspec": {
   "display_name": ".venv",
   "language": "python",
   "name": "python3"
  },
  "language_info": {
   "codemirror_mode": {
    "name": "ipython",
    "version": 3
   },
   "file_extension": ".py",
   "mimetype": "text/x-python",
   "name": "python",
   "nbconvert_exporter": "python",
   "pygments_lexer": "ipython3",
   "version": "3.12.3"
  }
 },
 "nbformat": 4,
 "nbformat_minor": 2
}
