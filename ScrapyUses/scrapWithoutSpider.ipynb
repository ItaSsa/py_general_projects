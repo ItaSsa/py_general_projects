{
 "cells": [
  {
   "cell_type": "code",
   "execution_count": 1,
   "metadata": {},
   "outputs": [],
   "source": [
    "import scrapy\n",
    "import os\n",
    "current_dir = os.path.abspath('')\n",
    "url = os.path.join(current_dir, \"source-EXPLOIT-DB.html\")\n",
    "with open(url) as _f:\n",
    "    url_data = _f.read()\n",
    "\n",
    "response = scrapy.http.TextResponse(url, body=url_data, encoding='utf-8')"
   ]
  },
  {
   "cell_type": "code",
   "execution_count": 17,
   "metadata": {},
   "outputs": [
    {
     "name": "stdout",
     "output_type": "stream",
     "text": [
      "EXPLOIT-DB:10102\n",
      "CVE-2009-4186\n"
     ]
    }
   ],
   "source": [
    "table = response.xpath('//table')[3]\n",
    "for tr in table.xpath('tr'):\n",
    "    print(tr.xpath('td//text()')[0].extract())\n",
    "    print(tr.xpath('td//text()')[2].extract())\n",
    "    break"
   ]
  },
  {
   "cell_type": "code",
   "execution_count": 26,
   "metadata": {},
   "outputs": [
    {
     "data": {
      "text/plain": [
       "{'EXPLOIT-DB:10102': 'CVE-2009-4186',\n",
       " 'EXPLOIT-DB:1013': 'CVE-2005-1598',\n",
       " 'EXPLOIT-DB:10168': 'CVE-2009-4767',\n",
       " 'EXPLOIT-DB:10180': 'CVE-2009-4091',\n",
       " 'EXPLOIT-DB:10183': 'CVE-2011-4906',\n",
       " 'EXPLOIT-DB:10201': 'CVE-2009-4781',\n",
       " 'EXPLOIT-DB:10216': 'CVE-2009-4223',\n",
       " 'EXPLOIT-DB:10217': 'CVE-2009-4779',\n",
       " 'EXPLOIT-DB:10218': 'CVE-2009-4082',\n",
       " 'EXPLOIT-DB:10220': 'CVE-2009-4220',\n",
       " 'EXPLOIT-DB:10226': 'CVE-2009-4097',\n",
       " 'EXPLOIT-DB:10231': 'CVE-2009-4096'}"
      ]
     },
     "execution_count": 26,
     "metadata": {},
     "output_type": "execute_result"
    }
   ],
   "source": [
    "scrapped_data = {}\n",
    "count = 0\n",
    "for tr in table.xpath('tr'):\n",
    "    exploit = tr.xpath('td//text()')[0].extract()\n",
    "    cve = tr.xpath('td//text()')[2].extract()\n",
    "    scrapped_data[exploit] = cve\n",
    "    if count > 10:\n",
    "        break\n",
    "    count += 1\n",
    "scrapped_data"
   ]
  },
  {
   "cell_type": "code",
   "execution_count": 27,
   "metadata": {},
   "outputs": [],
   "source": [
    "import json\n",
    "\n",
    "#serialize\n",
    "json_data = json.dumps(scrapped_data)\n",
    "\n",
    "# Persist it in a file:\n",
    "with open(\"vulnerabilities2.json\", \"w\") as _f:\n",
    "    # use dump() with the Python dictionary directly. \n",
    "    # the conversion is done on the fly\n",
    "    json.dump(scrapped_data, _f)"
   ]
  },
  {
   "cell_type": "code",
   "execution_count": null,
   "metadata": {},
   "outputs": [],
   "source": []
  }
 ],
 "metadata": {
  "kernelspec": {
   "display_name": ".venv",
   "language": "python",
   "name": "python3"
  },
  "language_info": {
   "codemirror_mode": {
    "name": "ipython",
    "version": 3
   },
   "file_extension": ".py",
   "mimetype": "text/x-python",
   "name": "python",
   "nbconvert_exporter": "python",
   "pygments_lexer": "ipython3",
   "version": "3.12.3"
  }
 },
 "nbformat": 4,
 "nbformat_minor": 2
}
