{
 "cells": [
  {
   "cell_type": "markdown",
   "metadata": {},
   "source": [
    "## Populating table using faker"
   ]
  },
  {
   "cell_type": "markdown",
   "metadata": {},
   "source": [
    "### Install faker"
   ]
  },
  {
   "cell_type": "code",
   "execution_count": 1,
   "metadata": {},
   "outputs": [
    {
     "name": "stdout",
     "output_type": "stream",
     "text": [
      "Collecting faker\n",
      "  Downloading Faker-33.3.1-py3-none-any.whl.metadata (15 kB)\n",
      "Requirement already satisfied: python-dateutil>=2.4 in /home/itaira/proj_py/py_general_projects/.venv/lib/python3.12/site-packages (from faker) (2.9.0.post0)\n",
      "Collecting typing-extensions (from faker)\n",
      "  Downloading typing_extensions-4.12.2-py3-none-any.whl.metadata (3.0 kB)\n",
      "Requirement already satisfied: six>=1.5 in /home/itaira/proj_py/py_general_projects/.venv/lib/python3.12/site-packages (from python-dateutil>=2.4->faker) (1.17.0)\n",
      "Downloading Faker-33.3.1-py3-none-any.whl (1.9 MB)\n",
      "\u001b[2K   \u001b[38;2;114;156;31m━━━━━━━━━━━━━━━━━━━━━━━━━━━━━━━━━━━━━━━━\u001b[0m \u001b[32m1.9/1.9 MB\u001b[0m \u001b[31m13.4 MB/s\u001b[0m eta \u001b[36m0:00:00\u001b[0m\n",
      "\u001b[?25hDownloading typing_extensions-4.12.2-py3-none-any.whl (37 kB)\n",
      "Installing collected packages: typing-extensions, faker\n",
      "Successfully installed faker-33.3.1 typing-extensions-4.12.2\n"
     ]
    }
   ],
   "source": [
    "!pip install faker"
   ]
  },
  {
   "cell_type": "markdown",
   "metadata": {},
   "source": [
    "### Using faker"
   ]
  },
  {
   "cell_type": "code",
   "execution_count": 3,
   "metadata": {},
   "outputs": [
    {
     "data": {
      "text/plain": [
       "[['Douglas', 'Walker'],\n",
       " ['Theresa', 'Summers'],\n",
       " ['April', 'Bush'],\n",
       " ['Angela', 'Carlson'],\n",
       " ['Stephen', 'Blanchard'],\n",
       " ['Leah', 'Clements'],\n",
       " ['Michael', 'Stephens'],\n",
       " ['Nathan', 'Perry'],\n",
       " ['Kenneth', 'Villarreal'],\n",
       " ['Robert', 'Reynolds'],\n",
       " ['Rebecca', 'Smith'],\n",
       " ['Stephanie', 'Ewing'],\n",
       " ['Susan', 'Rose'],\n",
       " ['Renee', 'Bolton'],\n",
       " ['Ana', 'Cox'],\n",
       " ['James', 'Cooke'],\n",
       " ['Tiffany', 'Snow'],\n",
       " ['Daniel', 'Johnson'],\n",
       " ['Terry', 'Jimenez'],\n",
       " ['Brent', 'Rice'],\n",
       " ['Heather', 'Best'],\n",
       " ['Lance', 'Mcdonald'],\n",
       " ['Jennifer', 'Fischer'],\n",
       " ['Jodi', 'Foster'],\n",
       " ['Andrea', 'Porter'],\n",
       " ['Valerie', 'Mclaughlin'],\n",
       " ['Susan', 'Tanner'],\n",
       " ['Erin', 'Smith'],\n",
       " ['Craig', 'Gentry'],\n",
       " ['Jacqueline', 'Gray'],\n",
       " ['Tyrone', 'Cortez'],\n",
       " ['Sheri', 'Barber'],\n",
       " ['Francis', 'Henry'],\n",
       " ['Noah', 'Dunlap'],\n",
       " ['Tammy', 'Williams'],\n",
       " ['Randy', 'Morris'],\n",
       " ['John', 'Davis'],\n",
       " ['James', 'Vazquez'],\n",
       " ['Robert', 'Sanchez'],\n",
       " ['John', 'Ford'],\n",
       " ['Stephanie', 'Flowers'],\n",
       " ['Christopher', 'Frank'],\n",
       " ['David', 'Crawford'],\n",
       " ['Brett', 'Reynolds'],\n",
       " ['Rachel', 'Conley'],\n",
       " ['Michael', 'Doyle'],\n",
       " ['Rebecca', 'Garcia'],\n",
       " ['Linda', 'Wilson'],\n",
       " ['Christopher', 'Roberts'],\n",
       " ['Brittany', 'Patel'],\n",
       " ['Bruce', 'Johnston'],\n",
       " ['Joshua', 'Avila'],\n",
       " ['Jeffrey', 'Ramos'],\n",
       " ['Victoria', 'Ramos'],\n",
       " ['Sean', 'Banks'],\n",
       " ['Kenneth', 'Bean'],\n",
       " ['Stephen', 'Ramos'],\n",
       " ['Robert', 'Martinez'],\n",
       " ['Andrew', 'Jones'],\n",
       " ['Kimberly', 'Norman'],\n",
       " ['Annette', 'Robertson'],\n",
       " ['Gary', 'Little'],\n",
       " ['Curtis', 'Roberts'],\n",
       " ['Joel', 'Hernandez'],\n",
       " ['Kristine', 'Cantrell'],\n",
       " ['Juan', 'Watson'],\n",
       " ['Katherine', 'Duncan'],\n",
       " ['Matthew', 'Keller'],\n",
       " ['Karen', 'Ashley'],\n",
       " ['Sandy', 'Morgan'],\n",
       " ['Charles', 'Hunt'],\n",
       " ['Gregory', 'Gomez'],\n",
       " ['Misty', 'Ballard'],\n",
       " ['Linda', 'Padilla'],\n",
       " ['Lauren', 'Ford'],\n",
       " ['Andrea', 'Price'],\n",
       " ['Michael', 'Perez'],\n",
       " ['Robert', 'Miller'],\n",
       " ['Elizabeth', 'Hendrix'],\n",
       " ['Carl', 'Wise'],\n",
       " ['Katie', 'Thompson'],\n",
       " ['Eric', 'Barajas'],\n",
       " ['Stephanie', 'Griffin'],\n",
       " ['Alex', 'Ritter'],\n",
       " ['Donna', 'Schmidt'],\n",
       " ['Eileen', 'Hudson'],\n",
       " ['Lisa', 'Jenkins'],\n",
       " ['Chelsea', 'Lewis'],\n",
       " ['Robert', 'Burton'],\n",
       " ['Austin', 'Coleman'],\n",
       " ['William', 'Carrillo'],\n",
       " ['Richard', 'Clark'],\n",
       " ['Lisa', 'Diaz'],\n",
       " ['Jennifer', 'Gaines'],\n",
       " ['Max', 'Brown'],\n",
       " ['Jose', 'Gilbert']]"
      ]
     },
     "execution_count": 3,
     "metadata": {},
     "output_type": "execute_result"
    }
   ],
   "source": [
    "from faker import Faker\n",
    "fake = Faker()\n",
    "names = [fake.name().split() for i in range(100)]\n",
    "names = [name for name in names if len(name) == 2]\n",
    "names"
   ]
  },
  {
   "cell_type": "code",
   "execution_count": 4,
   "metadata": {},
   "outputs": [],
   "source": [
    "import sqlite3\n",
    "connection = sqlite3.connect('sample.db')"
   ]
  },
  {
   "cell_type": "code",
   "execution_count": 7,
   "metadata": {},
   "outputs": [],
   "source": [
    "# Using a query with replacing mechanisms\n",
    "insert_query =  'INSERT INTO people(name,surname) VALUES(?,?)'\n",
    "cursor = connection.cursor()\n",
    "for name in names:\n",
    "    cursor.execute(insert_query,name)\n",
    "connection.commit()"
   ]
  },
  {
   "cell_type": "code",
   "execution_count": 8,
   "metadata": {},
   "outputs": [
    {
     "name": "stdout",
     "output_type": "stream",
     "text": [
      "(1, 'Douglas', 'Walker')\n",
      "(2, 'Theresa', 'Summers')\n",
      "(3, 'April', 'Bush')\n",
      "(4, 'Angela', 'Carlson')\n",
      "(5, 'Stephen', 'Blanchard')\n",
      "(6, 'Leah', 'Clements')\n",
      "(7, 'Michael', 'Stephens')\n",
      "(8, 'Nathan', 'Perry')\n",
      "(9, 'Kenneth', 'Villarreal')\n",
      "(10, 'Robert', 'Reynolds')\n"
     ]
    }
   ],
   "source": [
    "# Selecting\n",
    "select_query = 'SELECT * from people LIMIT 10'\n",
    "for i in cursor.execute(select_query):\n",
    "    print(i)"
   ]
  },
  {
   "cell_type": "code",
   "execution_count": 10,
   "metadata": {},
   "outputs": [
    {
     "data": {
      "text/plain": [
       "sqlite3.Cursor"
      ]
     },
     "execution_count": 10,
     "metadata": {},
     "output_type": "execute_result"
    }
   ],
   "source": [
    "type(cursor.execute(select_query))"
   ]
  },
  {
   "cell_type": "code",
   "execution_count": null,
   "metadata": {},
   "outputs": [],
   "source": []
  }
 ],
 "metadata": {
  "kernelspec": {
   "display_name": ".venv",
   "language": "python",
   "name": "python3"
  },
  "language_info": {
   "codemirror_mode": {
    "name": "ipython",
    "version": 3
   },
   "file_extension": ".py",
   "mimetype": "text/x-python",
   "name": "python",
   "nbconvert_exporter": "python",
   "pygments_lexer": "ipython3",
   "version": "3.12.3"
  }
 },
 "nbformat": 4,
 "nbformat_minor": 2
}
