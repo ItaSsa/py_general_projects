{
 "cells": [
  {
   "cell_type": "code",
   "execution_count": 25,
   "metadata": {},
   "outputs": [],
   "source": [
    "import sqlite3\n",
    "connection = sqlite3.connect(':memory:')"
   ]
  },
  {
   "cell_type": "code",
   "execution_count": 26,
   "metadata": {},
   "outputs": [],
   "source": [
    "table = 'CREATE TABLE files (id integer primary key, path TEXT, bytes INTEGER)'"
   ]
  },
  {
   "cell_type": "code",
   "execution_count": 27,
   "metadata": {},
   "outputs": [],
   "source": [
    "cursor = connection.cursor()\n",
    "cursor.execute(table)\n",
    "connection.commit()"
   ]
  },
  {
   "cell_type": "code",
   "execution_count": 28,
   "metadata": {},
   "outputs": [],
   "source": [
    "from walkInLargefiles import files"
   ]
  },
  {
   "cell_type": "markdown",
   "metadata": {},
   "source": []
  },
  {
   "cell_type": "code",
   "execution_count": 29,
   "metadata": {},
   "outputs": [],
   "source": [
    "query_isert = \"INSERT INTO files (path, bytes) VALUES(?,?)\"\n",
    "for _file,_size in files.items():\n",
    "    cursor.execute(query_isert,[_file,_size])\n",
    "connection.commit()"
   ]
  },
  {
   "cell_type": "code",
   "execution_count": 32,
   "metadata": {},
   "outputs": [
    {
     "name": "stdout",
     "output_type": "stream",
     "text": [
      "(10, './6.DictReader_Pandas_csv_processing.ipynb', 2147444)\n",
      "(17, './datasources/wine-ratings-small.csv', 314894)\n",
      "(20, './load_files/wine_medium_rating.json', 225361)\n",
      "(22, './load_files/wine_low_rating.json', 140543)\n",
      "(7, './3.dataStructures.ipynb', 13134)\n",
      "(21, './load_files/wine_high_rating.json', 11681)\n",
      "(1, './5.dealingJson.ipynb', 9523)\n",
      "(13, './sample.db', 8192)\n",
      "(8, './10.sqliteFakerFeedAndQuerying.ipynb', 7669)\n",
      "(11, './1.walkingfilesystemInspectingFiles.ipynb', 4867)\n",
      "(6, './2.filesSubdirectoriesDictionaryUsingOs.ipynb', 4155)\n",
      "(16, './datasources/users.json', 2016)\n",
      "(3, './11.sqliteInMemory.ipynb', 1810)\n"
     ]
    }
   ],
   "source": [
    "result = cursor.execute('SELECT * FROM files where bytes>1000 ORDER BY bytes DESC')\n",
    "for line in result:\n",
    "    print(line)"
   ]
  },
  {
   "cell_type": "code",
   "execution_count": null,
   "metadata": {},
   "outputs": [],
   "source": []
  }
 ],
 "metadata": {
  "kernelspec": {
   "display_name": ".venv",
   "language": "python",
   "name": "python3"
  },
  "language_info": {
   "codemirror_mode": {
    "name": "ipython",
    "version": 3
   },
   "file_extension": ".py",
   "mimetype": "text/x-python",
   "name": "python",
   "nbconvert_exporter": "python",
   "pygments_lexer": "ipython3",
   "version": "3.12.3"
  }
 },
 "nbformat": 4,
 "nbformat_minor": 2
}
